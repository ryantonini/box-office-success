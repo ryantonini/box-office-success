{
 "cells": [
  {
   "cell_type": "markdown",
   "metadata": {},
   "source": [
    "### Predicting US Box Office Success Using Bootstraped Aggregated Neural Networks"
   ]
  },
  {
   "cell_type": "markdown",
   "metadata": {},
   "source": [
    "####Introduction\n",
    "The topic of predicting box office success has been of significant interest to scholars and industry for many years.  There has been an abundance of success in forecasting box office revenue when opening week statistics are used in the predictive model (Sawhney & Eliashberg, 1996).  However, far less success has been acheieved when developing forecasting models prior to its initial theoretical release.  Previous studies have employed many statistical-based machine learning techniques such as logistic regression, decision trees, linear discriminant analysis and neural networks in an attempt to forecast box office success with varying degrees of success.  In this study, I will explore how well neural networks perform when applied with ensemble methods to predict box office success.      The variable of interest in this study is US gross box office, which does not include auxiliary revenues such as video rentals, international market revenues, toy and soundtrack sales, etc.\n",
    "\n"
   ]
  },
  {
   "cell_type": "markdown",
   "metadata": {},
   "source": [
    "####Data\n",
    "The primary source of data used for this project came from IMDb.  We used a python package, IMDbPY to retrieve useful from the IMDb movie database about movies, stars, directors, etc.\n",
    "However, the package lacked functionality for determining if a movie was a sequel, and didn't have working functions to get listings of movies by year.  \n",
    "A few python functions were written to scrape data from Wikipedia Sequel Films.  In addition, a scraper was created to obtain the top 100 movies for any year from Box Office Mojo."
   ]
  },
  {
   "cell_type": "markdown",
   "metadata": {},
   "source": [
    "####Feature Selection"
   ]
  },
  {
   "cell_type": "code",
   "execution_count": null,
   "metadata": {
    "collapsed": true
   },
   "outputs": [],
   "source": []
  }
 ],
 "metadata": {
  "kernelspec": {
   "display_name": "Python 2",
   "language": "python",
   "name": "python2"
  },
  "language_info": {
   "codemirror_mode": {
    "name": "ipython",
    "version": 2
   },
   "file_extension": ".py",
   "mimetype": "text/x-python",
   "name": "python",
   "nbconvert_exporter": "python",
   "pygments_lexer": "ipython2",
   "version": "2.7.9"
  }
 },
 "nbformat": 4,
 "nbformat_minor": 0
}
